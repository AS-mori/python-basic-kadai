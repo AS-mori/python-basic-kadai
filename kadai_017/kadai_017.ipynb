{
  "cells": [
    {
      "cell_type": "code",
      "execution_count": 6,
      "metadata": {
        "colab": {
          "base_uri": "https://localhost:8080/"
        },
        "id": "pKCdqH4qLGN-",
        "outputId": "988f04ae-e262-45f6-a971-6a7d3a9c90e9"
      },
      "outputs": [
        {
          "name": "stdout",
          "output_type": "stream",
          "text": [
            "侍太郎さんは大人です\n",
            "侍二郎さんは大人です\n",
            "侍花子さんは大人です\n",
            "侍五郎さんは大人ではありません\n"
          ]
        }
      ],
      "source": [
        "# 名前(name)と年齢(age)の属性を持つHumanクラスを作成\n",
        "class Human:\n",
        "  def __init__(self, name, age):\n",
        "    self.name = name\n",
        "    self.age = age\n",
        "\n",
        "# Humanクラスには以下条件で標準出力するcheck_adultメソッドを追加する\n",
        "  def check_adult(self):\n",
        "    if self.age >= 20:\n",
        "      print(f\"{self.name}さんは大人です\")\n",
        "    else:\n",
        "      print(f\"{self.name}さんは大人ではありません\")\n",
        "\n",
        "# Humanクラスのインスタンスを複数生成し、リストに追加する\n",
        "human1 = Human(\"侍太郎\", 36)\n",
        "human2 = Human(\"侍二郎\", 32)\n",
        "human3 = Human(\"侍花子\", 27)\n",
        "human4 = Human(\"侍五郎\", 17)\n",
        "\n",
        "humans = [human1, human2, human3, human4]\n",
        "\n",
        "# リストの要素数分だけcheck_adultメソッドを実行する\n",
        "for human in humans:\n",
        "  human.check_adult()"
      ]
    }
  ],
  "metadata": {
    "colab": {
      "provenance": []
    },
    "kernelspec": {
      "display_name": "Python 3",
      "name": "python3"
    },
    "language_info": {
      "name": "python"
    }
  },
  "nbformat": 4,
  "nbformat_minor": 0
}
