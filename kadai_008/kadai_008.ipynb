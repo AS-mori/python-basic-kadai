{
  "cells": [
    {
      "cell_type": "code",
      "execution_count": 75,
      "metadata": {
        "colab": {
          "base_uri": "https://localhost:8080/"
        },
        "id": "NF_btHlKWoxe",
        "outputId": "4b64ad2c-c9e0-4a87-f108-e03043be501f"
      },
      "outputs": [
        {
          "name": "stdout",
          "output_type": "stream",
          "text": [
            "60\n",
            "FizzBuzz\n"
          ]
        }
      ],
      "source": [
        "# ランダムな整数を利用するために、randomモジュールをインポート\n",
        "import random\n",
        "\n",
        "# 変数varに1~100までのランダムな整数を代入する\n",
        "var = random.randint(1, 100)\n",
        "\n",
        "# 変数varの値を出力\n",
        "print(var)\n",
        "\n",
        "# 変数varの値によって対応した値を表示\n",
        "if var % 3 == 0 and var % 5 == 0: #3の倍数と5の倍数の両方に該当する場合は「FizzBuzz」を出力\n",
        "  print(\"FizzBuzz\")\n",
        "elif var % 3 == 0: # 3の倍数の場合は「Fizz」を出力\n",
        "  print(\"Fizz\")\n",
        "elif var % 5 == 0: # 5の倍数の場合は「Buzz」を出力\n",
        "  print(\"Buzz\")\n",
        "else:\n",
        "  print(var)"
      ]
    }
  ],
  "metadata": {
    "colab": {
      "provenance": []
    },
    "kernelspec": {
      "display_name": "Python 3",
      "name": "python3"
    },
    "language_info": {
      "name": "python"
    }
  },
  "nbformat": 4,
  "nbformat_minor": 0
}
