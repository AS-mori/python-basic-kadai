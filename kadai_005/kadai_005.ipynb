{
  "cells": [
    {
      "cell_type": "code",
      "execution_count": 3,
      "metadata": {
        "colab": {
          "base_uri": "https://localhost:8080/"
        },
        "id": "CUF1oy7g3I4n",
        "outputId": "79858a86-a7bb-4124-f4f9-cd143607b828"
      },
      "outputs": [
        {
          "name": "stdout",
          "output_type": "stream",
          "text": [
            "75.0cm²\n"
          ]
        }
      ],
      "source": [
        "top_base = 10\n",
        "bottom_base = 20\n",
        "height = 5\n",
        "\n",
        "area = ( top_base + bottom_base ) * height / 2\n",
        "print(f\"{area}cm²\")"
      ]
    }
  ],
  "metadata": {
    "colab": {
      "provenance": []
    },
    "kernelspec": {
      "display_name": "Python 3",
      "name": "python3"
    },
    "language_info": {
      "name": "python"
    }
  },
  "nbformat": 4,
  "nbformat_minor": 0
}
