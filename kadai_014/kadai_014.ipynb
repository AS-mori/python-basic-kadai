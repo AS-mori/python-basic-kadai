{
  "cells": [
    {
      "cell_type": "code",
      "execution_count": 9,
      "metadata": {
        "colab": {
          "base_uri": "https://localhost:8080/"
        },
        "id": "AgjfuAzvVKm7",
        "outputId": "4ce3cc38-d9dc-428d-920f-81c66d2e39f3"
      },
      "outputs": [
        {
          "name": "stdout",
          "output_type": "stream",
          "text": [
            "330.0\n"
          ]
        }
      ],
      "source": [
        "price1 = 100\n",
        "price2 = 200\n",
        "# taxを修正\n",
        "tax = 1.1\n",
        "\n",
        "def total():\n",
        "  # price1とprice2の合計を返す\n",
        "  return price1 + price2\n",
        "\n",
        "# totalにtaxを掛けた値を出力\n",
        "print(total() * tax)"
      ]
    }
  ],
  "metadata": {
    "colab": {
      "provenance": []
    },
    "kernelspec": {
      "display_name": "Python 3",
      "name": "python3"
    },
    "language_info": {
      "name": "python"
    }
  },
  "nbformat": 4,
  "nbformat_minor": 0
}
