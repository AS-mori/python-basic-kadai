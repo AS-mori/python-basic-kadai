{
  "cells": [
    {
      "cell_type": "code",
      "execution_count": 18,
      "metadata": {
        "colab": {
          "base_uri": "https://localhost:8080/"
        },
        "id": "nkfWfKgnBWay",
        "outputId": "ad85ca9f-2e9a-4bcf-d26e-abfbb69149d8"
      },
      "outputs": [
        {
          "data": {
            "text/plain": [
              "121.00000000000001"
            ]
          },
          "execution_count": 18,
          "metadata": {},
          "output_type": "execute_result"
        }
      ],
      "source": [
        "# 商品の金額に消費税を加算する関数を作成\n",
        "def add_tax(price, tax):\n",
        "  total = price * (1 + tax/100)\n",
        "  return total\n",
        "\n",
        "# 関数を呼び出し、商品の金額と消費税を渡す\n",
        "add_tax(110, 10)"
      ]
    }
  ],
  "metadata": {
    "colab": {
      "provenance": []
    },
    "kernelspec": {
      "display_name": "Python 3",
      "name": "python3"
    },
    "language_info": {
      "name": "python"
    }
  },
  "nbformat": 4,
  "nbformat_minor": 0
}
